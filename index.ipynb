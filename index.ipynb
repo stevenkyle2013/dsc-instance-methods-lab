{
 "cells": [
  {
   "cell_type": "markdown",
   "metadata": {},
   "source": [
    "# Instance Methods - Lab"
   ]
  },
  {
   "cell_type": "markdown",
   "metadata": {},
   "source": [
    "## Introduction\n",
    "In the last lesson, you learned about instance methods -- what they are and how to define them. In this lab, you are going to flesh out the `Driver` and `Passenger` classes by writing your own instance methods for these classes."
   ]
  },
  {
   "cell_type": "markdown",
   "metadata": {},
   "source": [
    "## Objectives\n",
    "\n",
    "In this lab you will: \n",
    "\n",
    "* Create an instance of a class \n",
    "* Define and call an instance method\n"
   ]
  },
  {
   "cell_type": "markdown",
   "metadata": {},
   "source": [
    "## Define classes and instance methods"
   ]
  },
  {
   "cell_type": "markdown",
   "metadata": {},
   "source": [
    "You will now define classes and associated instance methods in the cell below: \n",
    "    \n",
    "> **Remember:** *as we learned in the previous lesson, we need to define our instance methods with at least one argument (`self`) in order to call them on an instance object.*"
   ]
  },
  {
   "cell_type": "markdown",
   "metadata": {},
   "source": [
    "Define a class `Driver` with two instance methods: \n",
    "\n",
    "- `greeting`: this should return the string `\"Hey, how are you?\"` \n",
    "- `ask_for_destination`: this should return the string `\"Where would you like to go today?\"` "
   ]
  },
  {
   "cell_type": "code",
   "execution_count": 2,
   "metadata": {
    "ExecuteTime": {
     "end_time": "2021-02-06T00:24:33.663342Z",
     "start_time": "2021-02-06T00:24:33.657911Z"
    }
   },
   "outputs": [],
   "source": [
    "# Define Driver class here\n",
    "class Driver:\n",
    "    \n",
    "    def greeting(self):\n",
    "        return 'Hey, how are you?'\n",
    "    \n",
    "    def ask_for_destination(self):\n",
    "        return 'Where would you like to go today?'"
   ]
  },
  {
   "cell_type": "markdown",
   "metadata": {},
   "source": [
    "Define a class `Passenger` with two instance methods: \n",
    "\n",
    "- `reply_greeting`: this should return the string `\"I am doing well!\"` \n",
    "- `in_a_hurry`: this should return the string `\"Punch it! They're on our tail!\"`"
   ]
  },
  {
   "cell_type": "code",
   "execution_count": 3,
   "metadata": {
    "ExecuteTime": {
     "end_time": "2021-02-06T00:25:40.184341Z",
     "start_time": "2021-02-06T00:25:40.178286Z"
    }
   },
   "outputs": [],
   "source": [
    "# Define Passenger class here \n",
    "class Passenger:\n",
    "    \n",
    "    def reply_greeting(self):\n",
    "        return 'I am doing well!'\n",
    "    \n",
    "    def in_a_hurry(self):\n",
    "        return \"Punch it! They're on our tail!\""
   ]
  },
  {
   "cell_type": "markdown",
   "metadata": {},
   "source": [
    "## Instantiate classes and methods\n",
    "\n",
    "Great! You've now defined classes and the associated instance methods. You will now actually use them: \n",
    "\n",
    "Start by instantiating a driver and a passenger. Assign the driver to the variable `daniel` and assign the passenger to `niky`. "
   ]
  },
  {
   "cell_type": "code",
   "execution_count": 4,
   "metadata": {
    "ExecuteTime": {
     "end_time": "2021-02-06T00:26:12.864972Z",
     "start_time": "2021-02-06T00:26:12.858479Z"
    }
   },
   "outputs": [],
   "source": [
    "daniel = Driver() # driver\n",
    "niky = Passenger() # passenger"
   ]
  },
  {
   "cell_type": "markdown",
   "metadata": {},
   "source": [
    "Alright, you have the passengers and drivers! Now you need to put those instance methods to use. Try them out and assign the return values to the variables below. \n",
    "\n",
    "- Have `daniel` greet his passenger, who is going to be `niky`. Assign the greeting to the variable `polite_greeting` \n",
    "- Have `niky` respond by calling `in_a_hurry()`, and assign the return value to the variable, `no_time_to_talk` "
   ]
  },
  {
   "cell_type": "code",
   "execution_count": 5,
   "metadata": {
    "ExecuteTime": {
     "end_time": "2021-02-06T00:26:48.950462Z",
     "start_time": "2021-02-06T00:26:48.922074Z"
    }
   },
   "outputs": [
    {
     "name": "stdout",
     "output_type": "stream",
     "text": [
      "Hey, how are you?\n"
     ]
    }
   ],
   "source": [
    "polite_greeting = daniel.greeting()\n",
    "print(polite_greeting)"
   ]
  },
  {
   "cell_type": "code",
   "execution_count": 6,
   "metadata": {
    "ExecuteTime": {
     "end_time": "2021-02-06T00:27:00.350173Z",
     "start_time": "2021-02-06T00:27:00.319562Z"
    }
   },
   "outputs": [
    {
     "name": "stdout",
     "output_type": "stream",
     "text": [
      "Punch it! They're on our tail!\n"
     ]
    }
   ],
   "source": [
    "no_time_to_talk = niky.in_a_hurry()\n",
    "print(no_time_to_talk)"
   ]
  },
  {
   "cell_type": "markdown",
   "metadata": {},
   "source": [
    "## Feel like doing more? \n",
    "\n",
    "In the cells below, you'll create three different classes that represent animals in a zoo -- lions, tigers, and elephants. Each animal should have a method, `speak()`, which returns a string containing the sound they make (feel free to have some fun with this -- we don't know how to spell the sound an elephant makes any better than you do!). "
   ]
  },
  {
   "cell_type": "code",
   "execution_count": 8,
   "metadata": {
    "ExecuteTime": {
     "end_time": "2021-02-06T01:06:47.173865Z",
     "start_time": "2021-02-06T01:06:47.167620Z"
    }
   },
   "outputs": [],
   "source": [
    "# Create Lion class\n",
    "class Lion:\n",
    "    \n",
    "    def speak(self):\n",
    "        return \"Rawr\""
   ]
  },
  {
   "cell_type": "code",
   "execution_count": 9,
   "metadata": {
    "ExecuteTime": {
     "end_time": "2021-02-06T01:09:08.783520Z",
     "start_time": "2021-02-06T01:09:08.778143Z"
    }
   },
   "outputs": [],
   "source": [
    "# Create Tiger class\n",
    "class Tiger:\n",
    "    \n",
    "    def speak(self):\n",
    "        return \"Tiger Rawr\""
   ]
  },
  {
   "cell_type": "code",
   "execution_count": 10,
   "metadata": {
    "ExecuteTime": {
     "end_time": "2021-02-06T01:09:39.121930Z",
     "start_time": "2021-02-06T01:09:39.117070Z"
    }
   },
   "outputs": [],
   "source": [
    "# Create Elephant class\n",
    "class Elephant:\n",
    "    \n",
    "    def speak(self):\n",
    "        return \"Arruugga\""
   ]
  },
  {
   "cell_type": "markdown",
   "metadata": {},
   "source": [
    "Now, in the cell below, create an instance of each animal: "
   ]
  },
  {
   "cell_type": "code",
   "execution_count": 11,
   "metadata": {
    "ExecuteTime": {
     "end_time": "2021-02-06T01:10:08.076530Z",
     "start_time": "2021-02-06T01:10:08.072513Z"
    }
   },
   "outputs": [],
   "source": [
    "simba = Lion()\n",
    "tony = Tiger()\n",
    "dumbo = Elephant()"
   ]
  },
  {
   "cell_type": "markdown",
   "metadata": {},
   "source": [
    "Now, add each of them into the list `zoo` in the cell below: "
   ]
  },
  {
   "cell_type": "code",
   "execution_count": 12,
   "metadata": {
    "ExecuteTime": {
     "end_time": "2021-02-06T01:10:23.657684Z",
     "start_time": "2021-02-06T01:10:23.652289Z"
    }
   },
   "outputs": [],
   "source": [
    "zoo = [simba, tony, dumbo]"
   ]
  },
  {
   "cell_type": "markdown",
   "metadata": {},
   "source": [
    "Now, loop through the `zoo` list and call out the `.speak()` method for every animal in the zoo. Make sure you print this in order to see the output! "
   ]
  },
  {
   "cell_type": "code",
   "execution_count": 13,
   "metadata": {
    "ExecuteTime": {
     "end_time": "2021-02-06T01:10:56.030768Z",
     "start_time": "2021-02-06T01:10:56.024499Z"
    }
   },
   "outputs": [
    {
     "name": "stdout",
     "output_type": "stream",
     "text": [
      "Rawr\n",
      "Tiger Rawr\n",
      "Arruugga\n"
     ]
    }
   ],
   "source": [
    "for animal in zoo:\n",
    "    print(animal.speak())"
   ]
  },
  {
   "cell_type": "markdown",
   "metadata": {},
   "source": [
    "## Summary\n",
    "In this lab, you practiced defining classes and instance methods. You then instantiated instances of your classes and used them to practice calling your instance methods. "
   ]
  }
 ],
 "metadata": {
  "kernelspec": {
   "display_name": "Python 3",
   "language": "python",
   "name": "python3"
  },
  "language_info": {
   "codemirror_mode": {
    "name": "ipython",
    "version": 3
   },
   "file_extension": ".py",
   "mimetype": "text/x-python",
   "name": "python",
   "nbconvert_exporter": "python",
   "pygments_lexer": "ipython3",
   "version": "3.6.9"
  },
  "toc": {
   "base_numbering": 1,
   "nav_menu": {},
   "number_sections": true,
   "sideBar": true,
   "skip_h1_title": false,
   "title_cell": "Table of Contents",
   "title_sidebar": "Contents",
   "toc_cell": false,
   "toc_position": {},
   "toc_section_display": true,
   "toc_window_display": false
  },
  "varInspector": {
   "cols": {
    "lenName": 16,
    "lenType": 16,
    "lenVar": 40
   },
   "kernels_config": {
    "python": {
     "delete_cmd_postfix": "",
     "delete_cmd_prefix": "del ",
     "library": "var_list.py",
     "varRefreshCmd": "print(var_dic_list())"
    },
    "r": {
     "delete_cmd_postfix": ") ",
     "delete_cmd_prefix": "rm(",
     "library": "var_list.r",
     "varRefreshCmd": "cat(var_dic_list()) "
    }
   },
   "types_to_exclude": [
    "module",
    "function",
    "builtin_function_or_method",
    "instance",
    "_Feature"
   ],
   "window_display": false
  }
 },
 "nbformat": 4,
 "nbformat_minor": 2
}
